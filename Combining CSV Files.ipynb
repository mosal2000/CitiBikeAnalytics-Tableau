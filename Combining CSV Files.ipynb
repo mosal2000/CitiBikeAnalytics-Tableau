{
 "cells": [
  {
   "cell_type": "code",
   "execution_count": 7,
   "metadata": {},
   "outputs": [],
   "source": [
    "year1 = 2017\n",
    "year2 = 2018\n"
   ]
  },
  {
   "cell_type": "code",
   "execution_count": 8,
   "metadata": {},
   "outputs": [
    {
     "name": "stdout",
     "output_type": "stream",
     "text": [
      "2017\n",
      "2018\n"
     ]
    }
   ],
   "source": [
    "for year in range(year1, year2+1):\n",
    "    print (year)\n",
    "    \n",
    "    fout=open(str(year1) + \"-\" + str(year2) + \"_citibike_tripdata.csv\",\"a\")\n",
    "    # first file:\n",
    "    for line in open(\"Data/JC-\" + str(2018) + \"01-citibike-tripdata.csv\"):\n",
    "        fout.write(line)\n",
    "\n",
    "    # Feb - Sept:   \n",
    "    for num in range(2,9):\n",
    "        f = open(\"Data/JC-\"+str(year)+\"0\"+str(num)+\"-citibike-tripdata.csv\")\n",
    "        f.__next__() # skip the header\n",
    "        for line in f:\n",
    "             fout.write(line)\n",
    "        f.close() # not really needed\n",
    "        \n",
    "    # Oct - Dec:    \n",
    "    for num in range(10,12):\n",
    "        f = open(\"Data/JC-\"+str(year)+str(num)+\"-citibike-tripdata.csv\")\n",
    "        f.__next__() # skip the header\n",
    "        for line in f:\n",
    "             fout.write(line)\n",
    "        f.close() # not really needed\n"
   ]
  },
  {
   "cell_type": "code",
   "execution_count": 9,
   "metadata": {},
   "outputs": [],
   "source": [
    "fout.close()"
   ]
  },
  {
   "cell_type": "code",
   "execution_count": null,
   "metadata": {},
   "outputs": [],
   "source": []
  }
 ],
 "metadata": {
  "kernelspec": {
   "display_name": "Python [conda env:PythonData]",
   "language": "python",
   "name": "conda-env-PythonData-py"
  },
  "language_info": {
   "codemirror_mode": {
    "name": "ipython",
    "version": 3
   },
   "file_extension": ".py",
   "mimetype": "text/x-python",
   "name": "python",
   "nbconvert_exporter": "python",
   "pygments_lexer": "ipython3",
   "version": "3.6.5"
  }
 },
 "nbformat": 4,
 "nbformat_minor": 2
}
